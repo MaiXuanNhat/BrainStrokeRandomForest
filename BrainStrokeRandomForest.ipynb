{
  "nbformat": 4,
  "nbformat_minor": 0,
  "metadata": {
    "colab": {
      "provenance": [],
      "authorship_tag": "ABX9TyOIkkpBcBDLHJcRsif+PC07",
      "include_colab_link": true
    },
    "kernelspec": {
      "name": "python3",
      "display_name": "Python 3"
    },
    "language_info": {
      "name": "python"
    }
  },
  "cells": [
    {
      "cell_type": "markdown",
      "metadata": {
        "id": "view-in-github",
        "colab_type": "text"
      },
      "source": [
        "<a href=\"https://colab.research.google.com/github/MaiXuanNhat/BrainStrokeRandomForest/blob/main/BrainStrokeRandomForest.ipynb\" target=\"_parent\"><img src=\"https://colab.research.google.com/assets/colab-badge.svg\" alt=\"Open In Colab\"/></a>"
      ]
    },
    {
      "cell_type": "markdown",
      "source": [
        "# **1.   Import Data**"
      ],
      "metadata": {
        "id": "ljsqkVdoAHDz"
      }
    },
    {
      "cell_type": "code",
      "execution_count": 275,
      "metadata": {
        "id": "qHRwNWStYhxD"
      },
      "outputs": [],
      "source": [
        "## imports ##\n",
        "import numpy as np\n",
        "import pandas as pd\n",
        "import seaborn as sn\n",
        "import matplotlib.pyplot as plt\n",
        "from sklearn.base import clone\n",
        "from sklearn.datasets import load_wine,load_boston\n",
        "from sklearn.model_selection import StratifiedKFold,cross_validate\n",
        "from sklearn.metrics import accuracy_score,precision_score,recall_score,f1_score,mean_absolute_error,mean_squared_error,r2_score,make_scorer\n",
        "from abc import ABC,abstractmethod\n",
        "from sklearn.tree import DecisionTreeClassifier\n",
        "import warnings\n",
        "warnings.filterwarnings(\"ignore\", category=UserWarning) "
      ]
    },
    {
      "cell_type": "code",
      "source": [
        "all_data = pd.read_csv('brain_stroke.csv')\n",
        "all_data"
      ],
      "metadata": {
        "colab": {
          "base_uri": "https://localhost:8080/",
          "height": 424
        },
        "id": "Z6Rz8J5Lr2wH",
        "outputId": "76efd89c-f90c-4854-c94a-9163ce622a5e"
      },
      "execution_count": 278,
      "outputs": [
        {
          "output_type": "execute_result",
          "data": {
            "text/plain": [
              "      gender   age  hypertension  heart_disease ever_married      work_type  \\\n",
              "0       Male  67.0             0              1          Yes        Private   \n",
              "1       Male  80.0             0              1          Yes        Private   \n",
              "2     Female  49.0             0              0          Yes        Private   \n",
              "3     Female  79.0             1              0          Yes  Self-employed   \n",
              "4       Male  81.0             0              0          Yes        Private   \n",
              "...      ...   ...           ...            ...          ...            ...   \n",
              "4976    Male  41.0             0              0           No        Private   \n",
              "4977    Male  40.0             0              0          Yes        Private   \n",
              "4978  Female  45.0             1              0          Yes       Govt_job   \n",
              "4979    Male  40.0             0              0          Yes        Private   \n",
              "4980  Female  80.0             1              0          Yes        Private   \n",
              "\n",
              "     Residence_type  avg_glucose_level   bmi   smoking_status  stroke  \n",
              "0             Urban             228.69  36.6  formerly smoked       1  \n",
              "1             Rural             105.92  32.5     never smoked       1  \n",
              "2             Urban             171.23  34.4           smokes       1  \n",
              "3             Rural             174.12  24.0     never smoked       1  \n",
              "4             Urban             186.21  29.0  formerly smoked       1  \n",
              "...             ...                ...   ...              ...     ...  \n",
              "4976          Rural              70.15  29.8  formerly smoked       0  \n",
              "4977          Urban             191.15  31.1           smokes       0  \n",
              "4978          Rural              95.02  31.8           smokes       0  \n",
              "4979          Rural              83.94  30.0           smokes       0  \n",
              "4980          Urban              83.75  29.1     never smoked       0  \n",
              "\n",
              "[4981 rows x 11 columns]"
            ],
            "text/html": [
              "\n",
              "  <div id=\"df-b7a4ea72-609a-414a-8c2a-b9eb021aefe4\">\n",
              "    <div class=\"colab-df-container\">\n",
              "      <div>\n",
              "<style scoped>\n",
              "    .dataframe tbody tr th:only-of-type {\n",
              "        vertical-align: middle;\n",
              "    }\n",
              "\n",
              "    .dataframe tbody tr th {\n",
              "        vertical-align: top;\n",
              "    }\n",
              "\n",
              "    .dataframe thead th {\n",
              "        text-align: right;\n",
              "    }\n",
              "</style>\n",
              "<table border=\"1\" class=\"dataframe\">\n",
              "  <thead>\n",
              "    <tr style=\"text-align: right;\">\n",
              "      <th></th>\n",
              "      <th>gender</th>\n",
              "      <th>age</th>\n",
              "      <th>hypertension</th>\n",
              "      <th>heart_disease</th>\n",
              "      <th>ever_married</th>\n",
              "      <th>work_type</th>\n",
              "      <th>Residence_type</th>\n",
              "      <th>avg_glucose_level</th>\n",
              "      <th>bmi</th>\n",
              "      <th>smoking_status</th>\n",
              "      <th>stroke</th>\n",
              "    </tr>\n",
              "  </thead>\n",
              "  <tbody>\n",
              "    <tr>\n",
              "      <th>0</th>\n",
              "      <td>Male</td>\n",
              "      <td>67.0</td>\n",
              "      <td>0</td>\n",
              "      <td>1</td>\n",
              "      <td>Yes</td>\n",
              "      <td>Private</td>\n",
              "      <td>Urban</td>\n",
              "      <td>228.69</td>\n",
              "      <td>36.6</td>\n",
              "      <td>formerly smoked</td>\n",
              "      <td>1</td>\n",
              "    </tr>\n",
              "    <tr>\n",
              "      <th>1</th>\n",
              "      <td>Male</td>\n",
              "      <td>80.0</td>\n",
              "      <td>0</td>\n",
              "      <td>1</td>\n",
              "      <td>Yes</td>\n",
              "      <td>Private</td>\n",
              "      <td>Rural</td>\n",
              "      <td>105.92</td>\n",
              "      <td>32.5</td>\n",
              "      <td>never smoked</td>\n",
              "      <td>1</td>\n",
              "    </tr>\n",
              "    <tr>\n",
              "      <th>2</th>\n",
              "      <td>Female</td>\n",
              "      <td>49.0</td>\n",
              "      <td>0</td>\n",
              "      <td>0</td>\n",
              "      <td>Yes</td>\n",
              "      <td>Private</td>\n",
              "      <td>Urban</td>\n",
              "      <td>171.23</td>\n",
              "      <td>34.4</td>\n",
              "      <td>smokes</td>\n",
              "      <td>1</td>\n",
              "    </tr>\n",
              "    <tr>\n",
              "      <th>3</th>\n",
              "      <td>Female</td>\n",
              "      <td>79.0</td>\n",
              "      <td>1</td>\n",
              "      <td>0</td>\n",
              "      <td>Yes</td>\n",
              "      <td>Self-employed</td>\n",
              "      <td>Rural</td>\n",
              "      <td>174.12</td>\n",
              "      <td>24.0</td>\n",
              "      <td>never smoked</td>\n",
              "      <td>1</td>\n",
              "    </tr>\n",
              "    <tr>\n",
              "      <th>4</th>\n",
              "      <td>Male</td>\n",
              "      <td>81.0</td>\n",
              "      <td>0</td>\n",
              "      <td>0</td>\n",
              "      <td>Yes</td>\n",
              "      <td>Private</td>\n",
              "      <td>Urban</td>\n",
              "      <td>186.21</td>\n",
              "      <td>29.0</td>\n",
              "      <td>formerly smoked</td>\n",
              "      <td>1</td>\n",
              "    </tr>\n",
              "    <tr>\n",
              "      <th>...</th>\n",
              "      <td>...</td>\n",
              "      <td>...</td>\n",
              "      <td>...</td>\n",
              "      <td>...</td>\n",
              "      <td>...</td>\n",
              "      <td>...</td>\n",
              "      <td>...</td>\n",
              "      <td>...</td>\n",
              "      <td>...</td>\n",
              "      <td>...</td>\n",
              "      <td>...</td>\n",
              "    </tr>\n",
              "    <tr>\n",
              "      <th>4976</th>\n",
              "      <td>Male</td>\n",
              "      <td>41.0</td>\n",
              "      <td>0</td>\n",
              "      <td>0</td>\n",
              "      <td>No</td>\n",
              "      <td>Private</td>\n",
              "      <td>Rural</td>\n",
              "      <td>70.15</td>\n",
              "      <td>29.8</td>\n",
              "      <td>formerly smoked</td>\n",
              "      <td>0</td>\n",
              "    </tr>\n",
              "    <tr>\n",
              "      <th>4977</th>\n",
              "      <td>Male</td>\n",
              "      <td>40.0</td>\n",
              "      <td>0</td>\n",
              "      <td>0</td>\n",
              "      <td>Yes</td>\n",
              "      <td>Private</td>\n",
              "      <td>Urban</td>\n",
              "      <td>191.15</td>\n",
              "      <td>31.1</td>\n",
              "      <td>smokes</td>\n",
              "      <td>0</td>\n",
              "    </tr>\n",
              "    <tr>\n",
              "      <th>4978</th>\n",
              "      <td>Female</td>\n",
              "      <td>45.0</td>\n",
              "      <td>1</td>\n",
              "      <td>0</td>\n",
              "      <td>Yes</td>\n",
              "      <td>Govt_job</td>\n",
              "      <td>Rural</td>\n",
              "      <td>95.02</td>\n",
              "      <td>31.8</td>\n",
              "      <td>smokes</td>\n",
              "      <td>0</td>\n",
              "    </tr>\n",
              "    <tr>\n",
              "      <th>4979</th>\n",
              "      <td>Male</td>\n",
              "      <td>40.0</td>\n",
              "      <td>0</td>\n",
              "      <td>0</td>\n",
              "      <td>Yes</td>\n",
              "      <td>Private</td>\n",
              "      <td>Rural</td>\n",
              "      <td>83.94</td>\n",
              "      <td>30.0</td>\n",
              "      <td>smokes</td>\n",
              "      <td>0</td>\n",
              "    </tr>\n",
              "    <tr>\n",
              "      <th>4980</th>\n",
              "      <td>Female</td>\n",
              "      <td>80.0</td>\n",
              "      <td>1</td>\n",
              "      <td>0</td>\n",
              "      <td>Yes</td>\n",
              "      <td>Private</td>\n",
              "      <td>Urban</td>\n",
              "      <td>83.75</td>\n",
              "      <td>29.1</td>\n",
              "      <td>never smoked</td>\n",
              "      <td>0</td>\n",
              "    </tr>\n",
              "  </tbody>\n",
              "</table>\n",
              "<p>4981 rows × 11 columns</p>\n",
              "</div>\n",
              "      <button class=\"colab-df-convert\" onclick=\"convertToInteractive('df-b7a4ea72-609a-414a-8c2a-b9eb021aefe4')\"\n",
              "              title=\"Convert this dataframe to an interactive table.\"\n",
              "              style=\"display:none;\">\n",
              "        \n",
              "  <svg xmlns=\"http://www.w3.org/2000/svg\" height=\"24px\"viewBox=\"0 0 24 24\"\n",
              "       width=\"24px\">\n",
              "    <path d=\"M0 0h24v24H0V0z\" fill=\"none\"/>\n",
              "    <path d=\"M18.56 5.44l.94 2.06.94-2.06 2.06-.94-2.06-.94-.94-2.06-.94 2.06-2.06.94zm-11 1L8.5 8.5l.94-2.06 2.06-.94-2.06-.94L8.5 2.5l-.94 2.06-2.06.94zm10 10l.94 2.06.94-2.06 2.06-.94-2.06-.94-.94-2.06-.94 2.06-2.06.94z\"/><path d=\"M17.41 7.96l-1.37-1.37c-.4-.4-.92-.59-1.43-.59-.52 0-1.04.2-1.43.59L10.3 9.45l-7.72 7.72c-.78.78-.78 2.05 0 2.83L4 21.41c.39.39.9.59 1.41.59.51 0 1.02-.2 1.41-.59l7.78-7.78 2.81-2.81c.8-.78.8-2.07 0-2.86zM5.41 20L4 18.59l7.72-7.72 1.47 1.35L5.41 20z\"/>\n",
              "  </svg>\n",
              "      </button>\n",
              "      \n",
              "  <style>\n",
              "    .colab-df-container {\n",
              "      display:flex;\n",
              "      flex-wrap:wrap;\n",
              "      gap: 12px;\n",
              "    }\n",
              "\n",
              "    .colab-df-convert {\n",
              "      background-color: #E8F0FE;\n",
              "      border: none;\n",
              "      border-radius: 50%;\n",
              "      cursor: pointer;\n",
              "      display: none;\n",
              "      fill: #1967D2;\n",
              "      height: 32px;\n",
              "      padding: 0 0 0 0;\n",
              "      width: 32px;\n",
              "    }\n",
              "\n",
              "    .colab-df-convert:hover {\n",
              "      background-color: #E2EBFA;\n",
              "      box-shadow: 0px 1px 2px rgba(60, 64, 67, 0.3), 0px 1px 3px 1px rgba(60, 64, 67, 0.15);\n",
              "      fill: #174EA6;\n",
              "    }\n",
              "\n",
              "    [theme=dark] .colab-df-convert {\n",
              "      background-color: #3B4455;\n",
              "      fill: #D2E3FC;\n",
              "    }\n",
              "\n",
              "    [theme=dark] .colab-df-convert:hover {\n",
              "      background-color: #434B5C;\n",
              "      box-shadow: 0px 1px 3px 1px rgba(0, 0, 0, 0.15);\n",
              "      filter: drop-shadow(0px 1px 2px rgba(0, 0, 0, 0.3));\n",
              "      fill: #FFFFFF;\n",
              "    }\n",
              "  </style>\n",
              "\n",
              "      <script>\n",
              "        const buttonEl =\n",
              "          document.querySelector('#df-b7a4ea72-609a-414a-8c2a-b9eb021aefe4 button.colab-df-convert');\n",
              "        buttonEl.style.display =\n",
              "          google.colab.kernel.accessAllowed ? 'block' : 'none';\n",
              "\n",
              "        async function convertToInteractive(key) {\n",
              "          const element = document.querySelector('#df-b7a4ea72-609a-414a-8c2a-b9eb021aefe4');\n",
              "          const dataTable =\n",
              "            await google.colab.kernel.invokeFunction('convertToInteractive',\n",
              "                                                     [key], {});\n",
              "          if (!dataTable) return;\n",
              "\n",
              "          const docLinkHtml = 'Like what you see? Visit the ' +\n",
              "            '<a target=\"_blank\" href=https://colab.research.google.com/notebooks/data_table.ipynb>data table notebook</a>'\n",
              "            + ' to learn more about interactive tables.';\n",
              "          element.innerHTML = '';\n",
              "          dataTable['output_type'] = 'display_data';\n",
              "          await google.colab.output.renderOutput(dataTable, element);\n",
              "          const docLink = document.createElement('div');\n",
              "          docLink.innerHTML = docLinkHtml;\n",
              "          element.appendChild(docLink);\n",
              "        }\n",
              "      </script>\n",
              "    </div>\n",
              "  </div>\n",
              "  "
            ]
          },
          "metadata": {},
          "execution_count": 278
        }
      ]
    },
    {
      "cell_type": "markdown",
      "source": [
        "# **2.   Data Analysis**"
      ],
      "metadata": {
        "id": "JiHx8xgAAjq-"
      }
    },
    {
      "cell_type": "code",
      "source": [
        "all_data.info()"
      ],
      "metadata": {
        "colab": {
          "base_uri": "https://localhost:8080/"
        },
        "id": "y4Lo6MSYoqh3",
        "outputId": "f589da86-ff34-4719-c5ca-6896ab9f6dc4"
      },
      "execution_count": 279,
      "outputs": [
        {
          "output_type": "stream",
          "name": "stdout",
          "text": [
            "<class 'pandas.core.frame.DataFrame'>\n",
            "RangeIndex: 4981 entries, 0 to 4980\n",
            "Data columns (total 11 columns):\n",
            " #   Column             Non-Null Count  Dtype  \n",
            "---  ------             --------------  -----  \n",
            " 0   gender             4981 non-null   object \n",
            " 1   age                4981 non-null   float64\n",
            " 2   hypertension       4981 non-null   int64  \n",
            " 3   heart_disease      4981 non-null   int64  \n",
            " 4   ever_married       4981 non-null   object \n",
            " 5   work_type          4981 non-null   object \n",
            " 6   Residence_type     4981 non-null   object \n",
            " 7   avg_glucose_level  4981 non-null   float64\n",
            " 8   bmi                4981 non-null   float64\n",
            " 9   smoking_status     4981 non-null   object \n",
            " 10  stroke             4981 non-null   int64  \n",
            "dtypes: float64(3), int64(3), object(5)\n",
            "memory usage: 428.2+ KB\n"
          ]
        }
      ]
    },
    {
      "cell_type": "code",
      "source": [
        "all_data.isnull().sum()"
      ],
      "metadata": {
        "colab": {
          "base_uri": "https://localhost:8080/"
        },
        "id": "TVCFRIi6qOGu",
        "outputId": "c8ce7750-e3a5-453a-eac8-ef1a768a9567"
      },
      "execution_count": 280,
      "outputs": [
        {
          "output_type": "execute_result",
          "data": {
            "text/plain": [
              "gender               0\n",
              "age                  0\n",
              "hypertension         0\n",
              "heart_disease        0\n",
              "ever_married         0\n",
              "work_type            0\n",
              "Residence_type       0\n",
              "avg_glucose_level    0\n",
              "bmi                  0\n",
              "smoking_status       0\n",
              "stroke               0\n",
              "dtype: int64"
            ]
          },
          "metadata": {},
          "execution_count": 280
        }
      ]
    },
    {
      "cell_type": "code",
      "source": [
        "#normalize data\n",
        "from sklearn.preprocessing import LabelEncoder \n",
        "label_encoder = LabelEncoder()\n",
        "columns = ['gender', 'ever_married', 'work_type', 'Residence_type','smoking_status']\n",
        "all_col_mappings={}\n",
        "for col in columns:\n",
        "    all_data[col] = label_encoder.fit_transform(all_data[col])\n",
        "    col_mappings  = {index: label for index, label in enumerate(label_encoder.classes_)}\n",
        "    print(col_mappings)\n",
        "    col_mappings = {v: k for k, v in col_mappings.items()}\n",
        "    all_col_mappings.update(col_mappings)"
      ],
      "metadata": {
        "id": "dI5Zt0sYjF6O",
        "colab": {
          "base_uri": "https://localhost:8080/"
        },
        "outputId": "f8990bdc-33f1-4e64-b471-cf30bee4c9e7"
      },
      "execution_count": 281,
      "outputs": [
        {
          "output_type": "stream",
          "name": "stdout",
          "text": [
            "{0: 'Female', 1: 'Male'}\n",
            "{0: 'No', 1: 'Yes'}\n",
            "{0: 'Govt_job', 1: 'Private', 2: 'Self-employed', 3: 'children'}\n",
            "{0: 'Rural', 1: 'Urban'}\n",
            "{0: 'Unknown', 1: 'formerly smoked', 2: 'never smoked', 3: 'smokes'}\n"
          ]
        }
      ]
    },
    {
      "cell_type": "code",
      "source": [
        "all_data.info()"
      ],
      "metadata": {
        "colab": {
          "base_uri": "https://localhost:8080/"
        },
        "id": "DGyP-coSsymS",
        "outputId": "ccb8f671-9cd8-47de-b342-ce85aa135150"
      },
      "execution_count": 282,
      "outputs": [
        {
          "output_type": "stream",
          "name": "stdout",
          "text": [
            "<class 'pandas.core.frame.DataFrame'>\n",
            "RangeIndex: 4981 entries, 0 to 4980\n",
            "Data columns (total 11 columns):\n",
            " #   Column             Non-Null Count  Dtype  \n",
            "---  ------             --------------  -----  \n",
            " 0   gender             4981 non-null   int64  \n",
            " 1   age                4981 non-null   float64\n",
            " 2   hypertension       4981 non-null   int64  \n",
            " 3   heart_disease      4981 non-null   int64  \n",
            " 4   ever_married       4981 non-null   int64  \n",
            " 5   work_type          4981 non-null   int64  \n",
            " 6   Residence_type     4981 non-null   int64  \n",
            " 7   avg_glucose_level  4981 non-null   float64\n",
            " 8   bmi                4981 non-null   float64\n",
            " 9   smoking_status     4981 non-null   int64  \n",
            " 10  stroke             4981 non-null   int64  \n",
            "dtypes: float64(3), int64(8)\n",
            "memory usage: 428.2 KB\n"
          ]
        }
      ]
    },
    {
      "cell_type": "code",
      "source": [
        "target = 'stroke'\n",
        "X = all_data.loc[:,all_data.columns!=target]\n",
        "y = all_data.loc[:,all_data.columns==target]\n",
        "print('Dimensions of X: ',X.shape)\n",
        "print('Dimensions of y: ',y.shape)"
      ],
      "metadata": {
        "colab": {
          "base_uri": "https://localhost:8080/"
        },
        "id": "3cp5tHzysE5Y",
        "outputId": "98d4050f-bea7-471d-8629-fb05a63feaf0"
      },
      "execution_count": 283,
      "outputs": [
        {
          "output_type": "stream",
          "name": "stdout",
          "text": [
            "Dimensions of X:  (4981, 10)\n",
            "Dimensions of y:  (4981, 1)\n"
          ]
        }
      ]
    },
    {
      "cell_type": "code",
      "source": [
        "ax = sn.countplot(x=target,data=all_data)\n",
        "print(all_data[target].value_counts())"
      ],
      "metadata": {
        "colab": {
          "base_uri": "https://localhost:8080/",
          "height": 331
        },
        "id": "oofNCdwRSpA8",
        "outputId": "8a7564a8-f48f-4edb-af82-2de1ce61555f"
      },
      "execution_count": 284,
      "outputs": [
        {
          "output_type": "stream",
          "name": "stdout",
          "text": [
            "0    4733\n",
            "1     248\n",
            "Name: stroke, dtype: int64\n"
          ]
        },
        {
          "output_type": "display_data",
          "data": {
            "text/plain": [
              "<Figure size 432x288 with 1 Axes>"
            ],
            "image/png": "[encoded data removed]"
          },
          "metadata": {
            "needs_background": "light"
          }
        }
      ]
    },
    {
      "cell_type": "code",
      "source": [
        "percentage_no_stroke = 100*(4733/float(all_data.shape[0]))\n",
        "percentage_yes_stroke = 100*(248/float(all_data.shape[0]))\n",
        "print('percentage of people without stroke: %.2f%%' % percentage_no_stroke)\n",
        "print('percentage of people having stroke: %.2f%%' % percentage_yes_stroke)"
      ],
      "metadata": {
        "colab": {
          "base_uri": "https://localhost:8080/"
        },
        "id": "eqv17_brS0wu",
        "outputId": "14d5bb63-f110-4dc7-d88f-772198837eb1"
      },
      "execution_count": 285,
      "outputs": [
        {
          "output_type": "stream",
          "name": "stdout",
          "text": [
            "percentage of people without stroke: 95.02%\n",
            "percentage of people having stroke: 4.98%\n"
          ]
        }
      ]
    },
    {
      "cell_type": "code",
      "source": [
        "from imblearn.over_sampling import SMOTE\n",
        "\n",
        "oversample = SMOTE()\n",
        "X, y = oversample.fit_resample(X, y)"
      ],
      "metadata": {
        "id": "sTvftqdOt5Kh"
      },
      "execution_count": 286,
      "outputs": []
    },
    {
      "cell_type": "code",
      "source": [
        "ax = sn.countplot(x=target,data=y)\n",
        "print(y[target].value_counts())"
      ],
      "metadata": {
        "colab": {
          "base_uri": "https://localhost:8080/",
          "height": 331
        },
        "id": "HtvMrDrrUZVl",
        "outputId": "f650d0d0-e7d8-4153-849b-42f7a89b7309"
      },
      "execution_count": 287,
      "outputs": [
        {
          "output_type": "stream",
          "name": "stdout",
          "text": [
            "1    4733\n",
            "0    4733\n",
            "Name: stroke, dtype: int64\n"
          ]
        },
        {
          "output_type": "display_data",
          "data": {
            "text/plain": [
              "<Figure size 432x288 with 1 Axes>"
            ],
            "image/png": "[encoded data removed]"
          },
          "metadata": {
            "needs_background": "light"
          }
        }
      ]
    },
    {
      "cell_type": "code",
      "source": [
        "y = y.squeeze()"
      ],
      "metadata": {
        "id": "W71RspIUVL7d"
      },
      "execution_count": 288,
      "outputs": []
    },
    {
      "cell_type": "code",
      "source": [
        "## plot the pearson correlation for our input features ##\n",
        "fig, ax = plt.subplots(figsize = (10, 10)) \n",
        "dfCorr  = X.corr() \n",
        "sn.heatmap(dfCorr,annot=True, fmt=\".2f\") \n",
        "plt.show()"
      ],
      "metadata": {
        "colab": {
          "base_uri": "https://localhost:8080/",
          "height": 676
        },
        "id": "lRPHyqK0gAyq",
        "outputId": "ff2f16d8-907b-456c-8632-331268bd1b6b"
      },
      "execution_count": 289,
      "outputs": [
        {
          "output_type": "display_data",
          "data": {
            "text/plain": [
              "<Figure size 720x720 with 2 Axes>"
            ],
            "image/png": "[encoded data removed]"
          },
          "metadata": {
            "needs_background": "light"
          }
        }
      ]
    },
    {
      "cell_type": "markdown",
      "source": [
        "# **3.   Build RandomForestClassifier Model**"
      ],
      "metadata": {
        "id": "zCbLQxJFBDje"
      }
    },
    {
      "cell_type": "code",
      "source": [
        "#base class for the random forest algorithm\n",
        "class RandomForest(ABC):\n",
        "    #initializer\n",
        "    def __init__(self,n_trees=100):\n",
        "        self.n_trees = n_trees\n",
        "        self.trees   = []\n",
        "    #private function to make bootstrap samples\n",
        "    def __make_bootstraps(self,data):\n",
        "        #initialize output dictionary & unique value count\n",
        "        dc   = {}\n",
        "        unip = 0\n",
        "        #get sample size\n",
        "        b_size = data.shape[0]\n",
        "        #get list of row indexes\n",
        "        idx = [i for i in range(b_size)]\n",
        "        #loop through the required number of bootstraps\n",
        "        for b in range(self.n_trees):\n",
        "            #obtain boostrap samples with replacement\n",
        "            sidx   = np.random.choice(idx,replace=True,size=b_size)\n",
        "            b_samp = data[sidx,:]\n",
        "            #compute number of unique values contained in the bootstrap sample\n",
        "            unip  += len(set(sidx))\n",
        "            #obtain out-of-bag samples for the current b\n",
        "            oidx   = list(set(idx) - set(sidx))\n",
        "            o_samp = np.array([])\n",
        "            if oidx:\n",
        "                o_samp = data[oidx,:]\n",
        "            #store results\n",
        "            dc['boot_'+str(b)] = {'boot':b_samp,'test':o_samp}\n",
        "        #return the bootstrap results\n",
        "        return(dc)\n",
        "    #public function to return model parameters\n",
        "    def get_params(self, deep = False):\n",
        "        return {'n_trees':self.n_trees}\n",
        "\n",
        "    #protected function to obtain the right decision tree\n",
        "    @abstractmethod\n",
        "    def _make_tree_model(self):\n",
        "        pass\n",
        "    #protected function to train the ensemble\n",
        "    def _train(self,X_train,y_train):\n",
        "        #package the input data\n",
        "        training_data = np.concatenate((X_train,y_train.reshape(-1,1)),axis=1)\n",
        "        #make bootstrap samples\n",
        "        dcBoot = self.__make_bootstraps(training_data)\n",
        "        #iterate through each bootstrap sample & fit a model ##\n",
        "        tree_m = self._make_tree_model()\n",
        "        dcOob    = {}\n",
        "        for b in dcBoot:\n",
        "            #make a clone of the model\n",
        "            model = clone(tree_m)\n",
        "            #fit a decision tree model to the current sample\n",
        "            model.fit(dcBoot[b]['boot'][:,:-1],dcBoot[b]['boot'][:,-1].reshape(-1, 1))\n",
        "            #append the fitted model\n",
        "            self.trees.append(model)\n",
        "            #store the out-of-bag test set for the current bootstrap\n",
        "            if dcBoot[b]['test'].size:\n",
        "                dcOob[b] = dcBoot[b]['test']\n",
        "            else:\n",
        "                dcOob[b] = np.array([])\n",
        "        #return the oob data set\n",
        "        return(dcOob)\n",
        "    #protected function to predict from the ensemble\n",
        "    def _predict(self,X):\n",
        "        #check we've fit the ensemble\n",
        "        if not self.trees:\n",
        "            print('You must train the ensemble before making predictions!')\n",
        "            return(None)\n",
        "        #loop through each fitted model\n",
        "        predictions = []\n",
        "        for m in self.trees:\n",
        "            #make predictions on the input X\n",
        "            yp = m.predict(X)\n",
        "            #append predictions to storage list\n",
        "            predictions.append(yp.reshape(-1,1))\n",
        "        #compute the ensemble prediction\n",
        "        ypred = np.mean(np.concatenate(predictions,axis=1),axis=1)\n",
        "        #return the prediction\n",
        "        return(ypred)"
      ],
      "metadata": {
        "id": "G0CDph5Ffj7-"
      },
      "execution_count": 276,
      "outputs": []
    },
    {
      "cell_type": "code",
      "source": [
        "#class for random forest classifier\n",
        "class RandomForestClassifier(RandomForest):\n",
        "    #initializer\n",
        "    def __init__(self,n_trees=100,max_depth=None,min_samples_split=2,criterion='entropy',class_weight=None):\n",
        "        super().__init__(n_trees)\n",
        "        self.max_depth             = max_depth\n",
        "        self.min_samples_split     = min_samples_split\n",
        "        self.criterion             = criterion\n",
        "        self.class_weight          = class_weight\n",
        "    #protected function to obtain the right decision tree\n",
        "    def _make_tree_model(self):\n",
        "        return(DecisionTreeClassifier(max_depth             = self.max_depth,\n",
        "                                      min_samples_split     = self.min_samples_split,\n",
        "                                      criterion             = self.criterion,\n",
        "                                      class_weight          = self.class_weight))\n",
        "    \n",
        "    #public function to return model parameters\n",
        "    def get_params(self, deep = False):\n",
        "        return {'n_trees':self.n_trees,\n",
        "                'max_depth':self.max_depth,\n",
        "                'min_samples_split':self.min_samples_split,\n",
        "                'criterion':self.criterion,\n",
        "                'class_weight':self.class_weight}\n",
        "    #train the ensemble\n",
        "    def fit(self,X_train,y_train,print_metrics=False):\n",
        "        #call the protected training method\n",
        "        dcOob = self._train(X_train,y_train)\n",
        "        #if selected, compute the standard errors and print them\n",
        "        if print_metrics:\n",
        "            #initialise metric arrays\n",
        "            accs = np.array([])\n",
        "            pres = np.array([])\n",
        "            recs = np.array([])\n",
        "            f1ss = np.array([])\n",
        "            #loop through each bootstrap sample\n",
        "            for b,m in zip(dcOob,self.trees):\n",
        "                #compute the predictions on the out-of-bag test set & compute metrics\n",
        "                if dcOob[b].size:\n",
        "                    yp  = m.predict(dcOob[b][:,:-1])\n",
        "                    acc = accuracy_score(dcOob[b][:,-1],yp)\n",
        "                    pre = precision_score(dcOob[b][:,-1],yp,average='weighted')   \n",
        "                    rec = recall_score(dcOob[b][:,-1],yp,average='weighted')\n",
        "                    f1s = f1_score(dcOob[b][:,-1],yp,average='weighted')\n",
        "                    #store the error metrics\n",
        "                    accs = np.concatenate((accs,acc.flatten()))\n",
        "                    pres = np.concatenate((pres,pre.flatten()))\n",
        "                    recs = np.concatenate((recs,rec.flatten()))\n",
        "                    f1ss = np.concatenate((f1ss,f1s.flatten()))\n",
        "            #print standard errors\n",
        "            print(\"Standard error in accuracy: %.2f\" % np.std(accs))\n",
        "            print(\"Standard error in precision: %.2f\" % np.std(pres))\n",
        "            print(\"Standard error in recall: %.2f\" % np.std(recs))\n",
        "            print(\"Standard error in f1_score: %.2f\" % np.std(f1ss))\n",
        "    #predict from the ensemble\n",
        "    def predict(self,X):\n",
        "        #call the protected prediction method\n",
        "        ypred = self._predict(X)\n",
        "        #convert the results into integer values & return\n",
        "        return(np.round(ypred).astype(int))"
      ],
      "metadata": {
        "id": "bsEUYpwqfzel"
      },
      "execution_count": 277,
      "outputs": []
    },
    {
      "cell_type": "code",
      "source": [
        "#convert all correlations to positive values\n",
        "dfCorr = dfCorr.abs()\n",
        "\n",
        "#loop through rows\n",
        "for index, sRow in dfCorr.iterrows():\n",
        "    #get the valid entries\n",
        "    sCorrs = sRow[sRow.index != index]\n",
        "    sCorrs = sCorrs[sCorrs > 0.8]\n",
        "    #print out results\n",
        "    if not sCorrs.empty:\n",
        "        print('highly correlated input features: ',index,' & ',sCorrs.index.values)"
      ],
      "metadata": {
        "id": "IV-oJ_0LgCjJ"
      },
      "execution_count": 290,
      "outputs": []
    },
    {
      "cell_type": "code",
      "source": [
        "from sklearn.model_selection import train_test_split\n",
        "\n",
        "X_train, X_test, y_train, y_test = train_test_split(X,y, test_size=0.20, shuffle=True)"
      ],
      "metadata": {
        "id": "y0_CsUoZdgsB"
      },
      "execution_count": 291,
      "outputs": []
    },
    {
      "cell_type": "code",
      "source": [
        "#create a random forest with balance class weights enabled\n",
        "rfc = RandomForestClassifier(class_weight=\"balanced\")\n",
        "\n",
        "## train the ensemble & view estimates for prediction error ##\n",
        "rfc.fit(X_train.values,y_train.values,print_metrics=True)"
      ],
      "metadata": {
        "colab": {
          "base_uri": "https://localhost:8080/"
        },
        "id": "fb_pvpgwgFLJ",
        "outputId": "aedab2d8-831c-495d-dc01-215c95f78fed"
      },
      "execution_count": 292,
      "outputs": [
        {
          "output_type": "stream",
          "name": "stdout",
          "text": [
            "Standard error in accuracy: 0.01\n",
            "Standard error in precision: 0.01\n",
            "Standard error in recall: 0.01\n",
            "Standard error in f1_score: 0.01\n"
          ]
        }
      ]
    },
    {
      "cell_type": "code",
      "source": [
        "# Predicting the Test set results\n",
        "y_pred = rfc.predict(X_test)\n",
        "\n",
        "# Making the Confusion Matrix\n",
        "rfc_ac = accuracy_score(y_test, y_pred)\n",
        "rfc_pr = precision_score(y_test, y_pred)\n",
        "rfc_rc = recall_score(y_test, y_pred)\n",
        "rfc_f1 = f1_score(y_test, y_pred)\n",
        "print(\"RandomForest Accuracy: %.2f\" % rfc_ac)\n",
        "print(\"RandomForest Precision: %.2f\" % rfc_pr)\n",
        "print(\"RandomForest Recall: %.2f\" % rfc_rc)\n",
        "print(\"RandomForest F1 Score: %.2f\" % rfc_f1)"
      ],
      "metadata": {
        "colab": {
          "base_uri": "https://localhost:8080/"
        },
        "id": "boHqR9vBjteq",
        "outputId": "3c1beb68-d719-48a2-dd57-1ff9cc4e93af"
      },
      "execution_count": 293,
      "outputs": [
        {
          "output_type": "stream",
          "name": "stdout",
          "text": [
            "RandomForest Accuracy: 0.94\n",
            "RandomForest Precision: 0.92\n",
            "RandomForest Recall: 0.96\n",
            "RandomForest F1 Score: 0.94\n"
          ]
        }
      ]
    },
    {
      "cell_type": "markdown",
      "source": [
        "# **4.   Use KNNClassifier to compare with RandomForestClassifier**"
      ],
      "metadata": {
        "id": "-ZYWwv8IBSdp"
      }
    },
    {
      "cell_type": "code",
      "source": [
        "from sklearn.preprocessing import StandardScaler\n",
        "sc = StandardScaler()\n",
        "X_train_KNN = sc.fit_transform(X_train)\n",
        "X_test_KNN = sc.transform(X_test)\n",
        "\n",
        "# Training the K-NN model on the Training set\n",
        "from sklearn.neighbors import KNeighborsClassifier\n",
        "KNNClassifier = KNeighborsClassifier(n_neighbors = 5, p = 2)\n",
        "KNNClassifier.fit(X_train_KNN, y_train)\n",
        "\n",
        "# Predicting the Test set results\n",
        "y_pred = KNNClassifier.predict(X_test_KNN)\n",
        "\n",
        "# Making the Confusion Matrix\n",
        "knn_ac = accuracy_score(y_test, y_pred)\n",
        "knn_pr = precision_score(y_test, y_pred)\n",
        "knn_rc = recall_score(y_test, y_pred)\n",
        "knn_f1 = f1_score(y_test, y_pred)\n",
        "print(\"KNN Accuracy: %.2f\" % knn_ac)\n",
        "print(\"KNN Precision: %.2f\" % knn_pr)\n",
        "print(\"KNN Recall: %.2f\" % knn_rc)\n",
        "print(\"KNN F1 Score: %.2f\" % knn_f1)"
      ],
      "metadata": {
        "colab": {
          "base_uri": "https://localhost:8080/"
        },
        "id": "RhANfIAObLa0",
        "outputId": "f40cc7ea-a28d-4fed-efa4-4b9fc535e70e"
      },
      "execution_count": 294,
      "outputs": [
        {
          "output_type": "stream",
          "name": "stdout",
          "text": [
            "KNN Accuracy: 0.87\n",
            "KNN Precision: 0.81\n",
            "KNN Recall: 0.95\n",
            "KNN F1 Score: 0.88\n"
          ]
        }
      ]
    },
    {
      "cell_type": "markdown",
      "source": [
        "# **5.   Apply the model to real data**"
      ],
      "metadata": {
        "id": "DAPoxytKBlYf"
      }
    },
    {
      "cell_type": "code",
      "source": [
        "def stroke_predict(real_data):\n",
        "  X_real = pd.DataFrame(real_data, columns = ['gender','age','hypertension','heart_disease','ever_married',\n",
        "                                              'work_type','Residence_type','avg_glucose_level','bmi','smoking_status'])\n",
        "  for col in columns:\n",
        "      X_real[col] = X_real[col].map(all_col_mappings)\n",
        "  y_pred = rfc.predict(X_real)\n",
        "  if y_pred[0] == 0: print(\"no risk of stroke with a %.2f%% prediction accuracy\" % (100*rfc_f1))\n",
        "  else: print(\"have a stroke risk with a %.2f%% prediction accuracy\" % (100*rfc_f1))"
      ],
      "metadata": {
        "id": "zmk2LzTx4o19"
      },
      "execution_count": 309,
      "outputs": []
    },
    {
      "cell_type": "code",
      "source": [
        "real_data = np.array([['Female',80.0,1,0,'Yes','Private','Urban',83.75,29.1,'never smoked']])\n",
        "stroke_predict(real_data)"
      ],
      "metadata": {
        "colab": {
          "base_uri": "https://localhost:8080/"
        },
        "id": "ew5Y7imn5GJb",
        "outputId": "831324df-a351-4f0d-9734-212b80d461cd"
      },
      "execution_count": 310,
      "outputs": [
        {
          "output_type": "stream",
          "name": "stdout",
          "text": [
            "no risk of stroke with a 94.16% prediction accuracy\n"
          ]
        }
      ]
    }
  ]
}